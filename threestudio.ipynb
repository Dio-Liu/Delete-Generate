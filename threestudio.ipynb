{
  "cells": [
    {
      "cell_type": "code",
      "execution_count": 1,
      "metadata": {
        "id": "YadOCCCyXT0y",
        "colab": {
          "base_uri": "https://localhost:8080/"
        },
        "outputId": "b339eab1-de27-45d3-d55e-44987e680122"
      },
      "outputs": [
        {
          "output_type": "stream",
          "name": "stdout",
          "text": [
            "/bin/bash: line 1: nvidia-smi: command not found\n"
          ]
        }
      ],
      "source": [
        "!nvidia-smi"
      ]
    },
    {
      "cell_type": "markdown",
      "metadata": {
        "id": "S7vZFQkeq_Vk"
      },
      "source": [
        "Clone threestudio repo"
      ]
    },
    {
      "cell_type": "code",
      "source": [
        "from google.colab import drive\n",
        "drive.mount('/content/drive')"
      ],
      "metadata": {
        "id": "zpAdHdEIZcb5",
        "outputId": "5d1c5d8b-406a-4cd3-d538-2eb58f46153d",
        "colab": {
          "base_uri": "https://localhost:8080/"
        }
      },
      "execution_count": 3,
      "outputs": [
        {
          "output_type": "stream",
          "name": "stdout",
          "text": [
            "Mounted at /content/drive\n"
          ]
        }
      ]
    },
    {
      "cell_type": "code",
      "execution_count": 3,
      "metadata": {
        "id": "ubuVj4z0MhHh",
        "colab": {
          "base_uri": "https://localhost:8080/"
        },
        "outputId": "0e522dbf-6c54-4a3c-b44e-666e673695e7"
      },
      "outputs": [
        {
          "output_type": "stream",
          "name": "stdout",
          "text": [
            "Cloning into 'threestudio'...\n",
            "remote: Enumerating objects: 7124, done.\u001b[K\n",
            "remote: Counting objects: 100% (120/120), done.\u001b[K\n",
            "remote: Compressing objects: 100% (75/75), done.\u001b[K\n",
            "remote: Total 7124 (delta 66), reused 75 (delta 45), pack-reused 7004 (from 1)\u001b[K\n",
            "Receiving objects: 100% (7124/7124), 17.26 MiB | 12.59 MiB/s, done.\n",
            "Resolving deltas: 100% (5338/5338), done.\n"
          ]
        }
      ],
      "source": [
        "!git clone https://github.com/threestudio-project/threestudio.git"
      ]
    },
    {
      "cell_type": "code",
      "execution_count": 4,
      "metadata": {
        "id": "HrGD3RtXXsB9",
        "colab": {
          "base_uri": "https://localhost:8080/"
        },
        "outputId": "ae815416-79f9-4a37-ac68-0fa8ffe74b04"
      },
      "outputs": [
        {
          "output_type": "stream",
          "name": "stdout",
          "text": [
            "/content/threestudio\n"
          ]
        }
      ],
      "source": [
        "%cd threestudio"
      ]
    },
    {
      "cell_type": "markdown",
      "metadata": {
        "id": "aXqmxXX0Jb6m"
      },
      "source": [
        "Install dependencies"
      ]
    },
    {
      "cell_type": "code",
      "execution_count": 5,
      "metadata": {
        "id": "HKZQNbNmX20t",
        "colab": {
          "base_uri": "https://localhost:8080/"
        },
        "outputId": "44c16545-dafd-4047-a716-ab74b5326b35"
      },
      "outputs": [
        {
          "output_type": "stream",
          "name": "stdout",
          "text": [
            "Collecting ninja\n",
            "  Using cached ninja-1.11.1.1-py2.py3-none-manylinux1_x86_64.manylinux_2_5_x86_64.whl.metadata (5.3 kB)\n",
            "Using cached ninja-1.11.1.1-py2.py3-none-manylinux1_x86_64.manylinux_2_5_x86_64.whl (307 kB)\n",
            "Installing collected packages: ninja\n",
            "Successfully installed ninja-1.11.1.1\n",
            "Collecting lightning==2.0.0\n",
            "  Using cached lightning-2.0.0-py3-none-any.whl.metadata (36 kB)\n",
            "Collecting omegaconf==2.3.0\n",
            "  Using cached omegaconf-2.3.0-py3-none-any.whl.metadata (3.9 kB)\n",
            "Collecting jaxtyping\n",
            "  Using cached jaxtyping-0.2.34-py3-none-any.whl.metadata (6.4 kB)\n",
            "Requirement already satisfied: typeguard in /usr/local/lib/python3.10/dist-packages (4.3.0)\n",
            "Requirement already satisfied: diffusers in /usr/local/lib/python3.10/dist-packages (0.30.3)\n",
            "Requirement already satisfied: transformers in /usr/local/lib/python3.10/dist-packages (4.44.2)\n",
            "Requirement already satisfied: accelerate in /usr/local/lib/python3.10/dist-packages (0.34.2)\n",
            "Requirement already satisfied: opencv-python in /usr/local/lib/python3.10/dist-packages (4.10.0.84)\n",
            "Requirement already satisfied: tensorboard in /usr/local/lib/python3.10/dist-packages (2.17.0)\n",
            "Requirement already satisfied: matplotlib in /usr/local/lib/python3.10/dist-packages (3.7.1)\n",
            "Requirement already satisfied: imageio in /usr/local/lib/python3.10/dist-packages (2.35.1)\n",
            "Collecting trimesh\n",
            "  Using cached trimesh-4.5.1-py3-none-any.whl.metadata (18 kB)\n",
            "Collecting bitsandbytes\n",
            "  Using cached bitsandbytes-0.44.1-py3-none-manylinux_2_24_x86_64.whl.metadata (3.5 kB)\n",
            "Requirement already satisfied: sentencepiece in /usr/local/lib/python3.10/dist-packages (0.2.0)\n",
            "Requirement already satisfied: safetensors in /usr/local/lib/python3.10/dist-packages (0.4.5)\n",
            "Requirement already satisfied: huggingface_hub in /usr/local/lib/python3.10/dist-packages (0.24.7)\n",
            "Collecting libigl\n",
            "  Using cached libigl-2.5.1-cp310-cp310-manylinux_2_17_x86_64.manylinux2014_x86_64.whl.metadata (2.3 kB)\n",
            "Collecting xatlas\n",
            "  Using cached xatlas-0.0.9-cp310-cp310-manylinux_2_17_x86_64.manylinux2014_x86_64.whl.metadata (4.9 kB)\n",
            "Requirement already satisfied: networkx in /usr/local/lib/python3.10/dist-packages (3.4.2)\n",
            "Collecting pysdf\n",
            "  Using cached pysdf-0.1.9-cp310-cp310-linux_x86_64.whl\n",
            "Collecting PyMCubes\n",
            "  Using cached PyMCubes-0.1.6-cp310-cp310-manylinux_2_17_x86_64.manylinux2014_x86_64.whl.metadata (868 bytes)\n",
            "Requirement already satisfied: wandb in /usr/local/lib/python3.10/dist-packages (0.18.5)\n",
            "Collecting torchmetrics\n",
            "  Using cached torchmetrics-1.5.1-py3-none-any.whl.metadata (20 kB)\n",
            "Collecting controlnet_aux\n",
            "  Using cached controlnet_aux-0.0.9-py3-none-any.whl.metadata (6.5 kB)\n",
            "Requirement already satisfied: Jinja2<5.0 in /usr/local/lib/python3.10/dist-packages (from lightning==2.0.0) (3.1.4)\n",
            "Requirement already satisfied: PyYAML<8.0 in /usr/local/lib/python3.10/dist-packages (from lightning==2.0.0) (6.0.2)\n",
            "Collecting arrow<3.0,>=1.2.0 (from lightning==2.0.0)\n",
            "  Using cached arrow-1.3.0-py3-none-any.whl.metadata (7.5 kB)\n",
            "Requirement already satisfied: beautifulsoup4<6.0,>=4.8.0 in /usr/local/lib/python3.10/dist-packages (from lightning==2.0.0) (4.12.3)\n",
            "Requirement already satisfied: click<10.0 in /usr/local/lib/python3.10/dist-packages (from lightning==2.0.0) (8.1.7)\n",
            "Collecting croniter<1.4.0,>=1.3.0 (from lightning==2.0.0)\n",
            "  Using cached croniter-1.3.15-py2.py3-none-any.whl.metadata (23 kB)\n",
            "Collecting dateutils<2.0 (from lightning==2.0.0)\n",
            "  Using cached dateutils-0.6.12-py2.py3-none-any.whl.metadata (1.3 kB)\n",
            "Collecting deepdiff<8.0,>=5.7.0 (from lightning==2.0.0)\n",
            "  Using cached deepdiff-7.0.1-py3-none-any.whl.metadata (6.8 kB)\n",
            "Collecting fastapi<0.89.0 (from lightning==2.0.0)\n",
            "  Using cached fastapi-0.88.0-py3-none-any.whl.metadata (24 kB)\n",
            "Collecting fsspec<2024.0,>=2022.5.0 (from lightning==2.0.0)\n",
            "  Using cached fsspec-2023.12.2-py3-none-any.whl.metadata (6.8 kB)\n",
            "Collecting inquirer<5.0,>=2.10.0 (from lightning==2.0.0)\n",
            "  Using cached inquirer-3.4.0-py3-none-any.whl.metadata (6.8 kB)\n",
            "Collecting lightning-cloud>=0.5.31 (from lightning==2.0.0)\n",
            "  Using cached lightning_cloud-0.5.70-py3-none-any.whl.metadata (957 bytes)\n",
            "Collecting lightning-utilities<2.0,>=0.7.0 (from lightning==2.0.0)\n",
            "  Using cached lightning_utilities-0.11.8-py3-none-any.whl.metadata (5.2 kB)\n",
            "Requirement already satisfied: numpy<3.0,>=1.17.2 in /usr/local/lib/python3.10/dist-packages (from lightning==2.0.0) (1.26.4)\n",
            "Requirement already satisfied: packaging in /usr/local/lib/python3.10/dist-packages (from lightning==2.0.0) (24.1)\n",
            "Requirement already satisfied: psutil<7.0 in /usr/local/lib/python3.10/dist-packages (from lightning==2.0.0) (5.9.5)\n",
            "Requirement already satisfied: pydantic<3.0 in /usr/local/lib/python3.10/dist-packages (from lightning==2.0.0) (2.9.2)\n",
            "Requirement already satisfied: requests<4.0 in /usr/local/lib/python3.10/dist-packages (from lightning==2.0.0) (2.32.3)\n",
            "Requirement already satisfied: rich<15.0,>=12.3.0 in /usr/local/lib/python3.10/dist-packages (from lightning==2.0.0) (13.9.2)\n",
            "Collecting starlette<2.0 (from lightning==2.0.0)\n",
            "  Using cached starlette-0.41.0-py3-none-any.whl.metadata (6.0 kB)\n",
            "Collecting starsessions<2.0,>=1.2.1 (from lightning==2.0.0)\n",
            "  Using cached starsessions-1.3.0-py3-none-any.whl.metadata (8.2 kB)\n",
            "Requirement already satisfied: torch<4.0,>=1.11.0 in /usr/local/lib/python3.10/dist-packages (from lightning==2.0.0) (2.5.0+cu121)\n",
            "Requirement already satisfied: tqdm<6.0,>=4.57.0 in /usr/local/lib/python3.10/dist-packages (from lightning==2.0.0) (4.66.5)\n",
            "Requirement already satisfied: traitlets<7.0,>=5.3.0 in /usr/local/lib/python3.10/dist-packages (from lightning==2.0.0) (5.7.1)\n",
            "Requirement already satisfied: typing-extensions<6.0,>=4.0.0 in /usr/local/lib/python3.10/dist-packages (from lightning==2.0.0) (4.12.2)\n",
            "Requirement already satisfied: urllib3<3.0 in /usr/local/lib/python3.10/dist-packages (from lightning==2.0.0) (2.2.3)\n",
            "Collecting uvicorn<2.0 (from lightning==2.0.0)\n",
            "  Using cached uvicorn-0.32.0-py3-none-any.whl.metadata (6.6 kB)\n",
            "Requirement already satisfied: websocket-client<3.0 in /usr/local/lib/python3.10/dist-packages (from lightning==2.0.0) (1.8.0)\n",
            "Collecting websockets<12.0 (from lightning==2.0.0)\n",
            "  Using cached websockets-11.0.3-cp310-cp310-manylinux_2_5_x86_64.manylinux1_x86_64.manylinux_2_17_x86_64.manylinux2014_x86_64.whl.metadata (6.6 kB)\n",
            "Collecting pytorch-lightning (from lightning==2.0.0)\n",
            "  Using cached pytorch_lightning-2.4.0-py3-none-any.whl.metadata (21 kB)\n",
            "Collecting antlr4-python3-runtime==4.9.* (from omegaconf==2.3.0)\n",
            "  Using cached antlr4_python3_runtime-4.9.3-py3-none-any.whl\n",
            "Collecting typeguard\n",
            "  Using cached typeguard-2.13.3-py3-none-any.whl.metadata (3.6 kB)\n",
            "Requirement already satisfied: importlib-metadata in /usr/local/lib/python3.10/dist-packages (from diffusers) (8.5.0)\n",
            "Requirement already satisfied: filelock in /usr/local/lib/python3.10/dist-packages (from diffusers) (3.16.1)\n",
            "Requirement already satisfied: regex!=2019.12.17 in /usr/local/lib/python3.10/dist-packages (from diffusers) (2024.9.11)\n",
            "Requirement already satisfied: Pillow in /usr/local/lib/python3.10/dist-packages (from diffusers) (10.4.0)\n",
            "Requirement already satisfied: tokenizers<0.20,>=0.19 in /usr/local/lib/python3.10/dist-packages (from transformers) (0.19.1)\n",
            "Requirement already satisfied: absl-py>=0.4 in /usr/local/lib/python3.10/dist-packages (from tensorboard) (1.4.0)\n",
            "Requirement already satisfied: grpcio>=1.48.2 in /usr/local/lib/python3.10/dist-packages (from tensorboard) (1.64.1)\n",
            "Requirement already satisfied: markdown>=2.6.8 in /usr/local/lib/python3.10/dist-packages (from tensorboard) (3.7)\n",
            "Requirement already satisfied: protobuf!=4.24.0,<5.0.0,>=3.19.6 in /usr/local/lib/python3.10/dist-packages (from tensorboard) (3.20.3)\n",
            "Requirement already satisfied: setuptools>=41.0.0 in /usr/local/lib/python3.10/dist-packages (from tensorboard) (75.1.0)\n",
            "Requirement already satisfied: six>1.9 in /usr/local/lib/python3.10/dist-packages (from tensorboard) (1.16.0)\n",
            "Requirement already satisfied: tensorboard-data-server<0.8.0,>=0.7.0 in /usr/local/lib/python3.10/dist-packages (from tensorboard) (0.7.2)\n",
            "Requirement already satisfied: werkzeug>=1.0.1 in /usr/local/lib/python3.10/dist-packages (from tensorboard) (3.0.4)\n",
            "Requirement already satisfied: contourpy>=1.0.1 in /usr/local/lib/python3.10/dist-packages (from matplotlib) (1.3.0)\n",
            "Requirement already satisfied: cycler>=0.10 in /usr/local/lib/python3.10/dist-packages (from matplotlib) (0.12.1)\n",
            "Requirement already satisfied: fonttools>=4.22.0 in /usr/local/lib/python3.10/dist-packages (from matplotlib) (4.54.1)\n",
            "Requirement already satisfied: kiwisolver>=1.0.1 in /usr/local/lib/python3.10/dist-packages (from matplotlib) (1.4.7)\n",
            "Requirement already satisfied: pyparsing>=2.3.1 in /usr/local/lib/python3.10/dist-packages (from matplotlib) (3.2.0)\n",
            "Requirement already satisfied: python-dateutil>=2.7 in /usr/local/lib/python3.10/dist-packages (from matplotlib) (2.8.2)\n",
            "Requirement already satisfied: imageio-ffmpeg in /usr/local/lib/python3.10/dist-packages (from imageio[ffmpeg]) (0.5.1)\n",
            "Requirement already satisfied: scipy in /usr/local/lib/python3.10/dist-packages (from libigl) (1.13.1)\n",
            "Requirement already satisfied: docker-pycreds>=0.4.0 in /usr/local/lib/python3.10/dist-packages (from wandb) (0.4.0)\n",
            "Requirement already satisfied: gitpython!=3.1.29,>=1.0.0 in /usr/local/lib/python3.10/dist-packages (from wandb) (3.1.43)\n",
            "Requirement already satisfied: platformdirs in /usr/local/lib/python3.10/dist-packages (from wandb) (4.3.6)\n",
            "Requirement already satisfied: sentry-sdk>=2.0.0 in /usr/local/lib/python3.10/dist-packages (from wandb) (2.17.0)\n",
            "Requirement already satisfied: setproctitle in /usr/local/lib/python3.10/dist-packages (from wandb) (1.3.3)\n",
            "Requirement already satisfied: opencv-python-headless in /usr/local/lib/python3.10/dist-packages (from controlnet_aux) (4.10.0.84)\n",
            "Requirement already satisfied: einops in /usr/local/lib/python3.10/dist-packages (from controlnet_aux) (0.8.0)\n",
            "Requirement already satisfied: torchvision in /usr/local/lib/python3.10/dist-packages (from controlnet_aux) (0.20.0+cu121)\n",
            "Collecting timm<=0.6.7 (from controlnet_aux)\n",
            "  Using cached timm-0.6.7-py3-none-any.whl.metadata (33 kB)\n",
            "Requirement already satisfied: scikit-image in /usr/local/lib/python3.10/dist-packages (from controlnet_aux) (0.24.0)\n",
            "Collecting types-python-dateutil>=2.8.10 (from arrow<3.0,>=1.2.0->lightning==2.0.0)\n",
            "  Using cached types_python_dateutil-2.9.0.20241003-py3-none-any.whl.metadata (1.9 kB)\n",
            "Requirement already satisfied: soupsieve>1.2 in /usr/local/lib/python3.10/dist-packages (from beautifulsoup4<6.0,>=4.8.0->lightning==2.0.0) (2.6)\n",
            "Requirement already satisfied: pytz in /usr/local/lib/python3.10/dist-packages (from dateutils<2.0->lightning==2.0.0) (2024.2)\n",
            "Collecting ordered-set<4.2.0,>=4.1.0 (from deepdiff<8.0,>=5.7.0->lightning==2.0.0)\n",
            "  Using cached ordered_set-4.1.0-py3-none-any.whl.metadata (5.3 kB)\n",
            "\u001b[31mERROR: Operation cancelled by user\u001b[0m\u001b[31m\n",
            "\u001b[0mCollecting git+https://github.com/openai/CLIP.git\n",
            "  Cloning https://github.com/openai/CLIP.git to /tmp/pip-req-build-bsjrdklt\n",
            "  Running command git clone --filter=blob:none --quiet https://github.com/openai/CLIP.git /tmp/pip-req-build-bsjrdklt\n",
            "  Resolved https://github.com/openai/CLIP.git to commit dcba3cb2e2827b402d2701e7e1c7d9fed8a20ef1\n",
            "  Preparing metadata (setup.py) ... \u001b[?25l\u001b[?25hdone\n",
            "Requirement already satisfied: einops in /usr/local/lib/python3.10/dist-packages (0.8.0)\n",
            "\u001b[31mERROR: Operation cancelled by user\u001b[0m\u001b[31m\n",
            "\u001b[0m\u001b[31mERROR: Operation cancelled by user\u001b[0m\u001b[31m\n",
            "\u001b[0m"
          ]
        }
      ],
      "source": [
        "# 定义依赖项的缓存目录\n",
        "cache_dir = '/content/drive/MyDrive/pip_cache'\n",
        "\n",
        "# 安装依赖项并使用缓存\n",
        "!pip install --cache-dir {cache_dir} ninja\n",
        "!pip install --cache-dir {cache_dir} lightning==2.0.0 omegaconf==2.3.0 jaxtyping typeguard diffusers transformers accelerate opencv-python tensorboard matplotlib imageio imageio[ffmpeg] trimesh bitsandbytes sentencepiece safetensors huggingface_hub libigl xatlas networkx pysdf PyMCubes wandb torchmetrics controlnet_aux\n",
        "!pip install --cache-dir {cache_dir} einops kornia taming-transformers-rom1504 git+https://github.com/openai/CLIP.git # zero123\n",
        "!pip install --cache-dir {cache_dir} open3d plotly # mesh visualization"
      ]
    },
    {
      "cell_type": "markdown",
      "metadata": {
        "id": "b8U3rne0JTgs"
      },
      "source": [
        "And build some dependencies manually. This may take a while."
      ]
    },
    {
      "cell_type": "code",
      "execution_count": null,
      "metadata": {
        "id": "BFHI67e0_65a"
      },
      "outputs": [],
      "source": [
        "# 手动构建依赖项\n",
        "!pip install --cache-dir {cache_dir} git+https://github.com/ashawkey/envlight.git\n",
        "!pip install --cache-dir {cache_dir} git+https://github.com/KAIR-BAIR/nerfacc.git@v0.5.2\n",
        "!pip install --cache-dir {cache_dir} git+https://github.com/NVlabs/nvdiffrast.git\n",
        "!pip install --cache-dir {cache_dir} git+https://github.com/NVlabs/tiny-cuda-nn/#subdirectory=bindings/torch"
      ]
    },
    {
      "cell_type": "markdown",
      "metadata": {
        "id": "QxY_7clwrJ18"
      },
      "source": [
        "Login to HuggingFace"
      ]
    },
    {
      "cell_type": "code",
      "execution_count": null,
      "metadata": {
        "id": "T4eeJFCZAZUV"
      },
      "outputs": [],
      "source": [
        "from huggingface_hub import interpreter_login\n",
        "\n",
        "interpreter_login()"
      ]
    },
    {
      "cell_type": "markdown",
      "metadata": {
        "id": "Eeqa6u5QrPTj"
      },
      "source": [
        "Now create your own 3D model from text prompts\n",
        "\n",
        "Here we use the DreamFusion model with DeepFloyd-IF guidance. You may try other models by using different running commands given [here](https://github.com/threestudio-project/threestudio#supported-models)."
      ]
    },
    {
      "cell_type": "code",
      "execution_count": null,
      "metadata": {
        "id": "pZUD5VcS88yz"
      },
      "outputs": [],
      "source": [
        "prompt = \"a zoomed out DSLR photo of a baby bunny sitting on top of a stack of pancakes\""
      ]
    },
    {
      "cell_type": "code",
      "execution_count": null,
      "metadata": {
        "id": "Uy61bM84K7Qi"
      },
      "outputs": [],
      "source": [
        "!python launch.py --config configs/dreamfusion-if.yaml --train --gpu 0 system.prompt_processor.prompt=\"$prompt\" trainer.max_steps=10000 system.prompt_processor.spawn=false"
      ]
    },
    {
      "cell_type": "markdown",
      "metadata": {
        "id": "UqrrK9FxrYgd"
      },
      "source": [
        "Display the rendered video"
      ]
    },
    {
      "cell_type": "code",
      "execution_count": null,
      "metadata": {
        "id": "J14FrBwMk5m9"
      },
      "outputs": [],
      "source": [
        "from IPython.display import HTML\n",
        "from base64 import b64encode\n",
        "def display_video(video_path):\n",
        "  mp4 = open(video_path,'rb').read()\n",
        "  data_url = \"data:video/mp4;base64,\" + b64encode(mp4).decode()\n",
        "  return HTML(\"\"\"\n",
        "  <video width=1000 controls>\n",
        "    <source src=\"%s\" type=\"video/mp4\">\n",
        "  </video>\n",
        "  \"\"\" % data_url)"
      ]
    },
    {
      "cell_type": "code",
      "execution_count": null,
      "metadata": {
        "id": "aaQCVmiCp87c"
      },
      "outputs": [],
      "source": [
        "# you will see the path to the saving directory at the end of the training logs\n",
        "# replace save_dir below with that path\n",
        "save_dir = 'path/to/save/dir'\n",
        "\n",
        "import os\n",
        "import glob\n",
        "video_path = glob.glob(os.path.join(save_dir, \"*-test.mp4\"))[0]\n",
        "display_video(video_path)"
      ]
    },
    {
      "cell_type": "markdown",
      "metadata": {
        "id": "UlUL4ZPn2xQV"
      },
      "source": [
        "Extract the object mesh.\n",
        "\n",
        "Here we use an empirical threshold value. You can also first try `system.geometry.isosurface_threshold=auto` and visualize it. Then you can manually adjust the threshold according to the automatically determined value shown in the logs. Increase it if there are too many floaters and decrease it if the geometry is incomplete.\n",
        "\n",
        "\n",
        "The extraction process takes around 2 mins on T4."
      ]
    },
    {
      "cell_type": "code",
      "execution_count": null,
      "metadata": {
        "id": "f-R26yEXqgyL"
      },
      "outputs": [],
      "source": [
        "!python launch.py --config $save_dir/../configs/parsed.yaml --export --gpu 0 resume=$save_dir/../ckpts/last.ckpt system.exporter_type=mesh-exporter system.exporter.context_type=cuda system.geometry.isosurface_threshold=15.0"
      ]
    },
    {
      "cell_type": "markdown",
      "metadata": {
        "id": "iocD0gl870vq"
      },
      "source": [
        "Visualize the mesh. Or you can directly download the export assets and use them locally."
      ]
    },
    {
      "cell_type": "code",
      "execution_count": null,
      "metadata": {
        "id": "71-J9PRIyp99"
      },
      "outputs": [],
      "source": [
        "import numpy as np\n",
        "import open3d as o3d\n",
        "import plotly.graph_objects as go\n",
        "import glob\n",
        "\n",
        "mesh_path = glob.glob(os.path.join(save_dir, \"*-export/model.obj\"))[0]\n",
        "mesh = o3d.io.read_triangle_mesh(mesh_path)\n",
        "if not mesh.has_vertex_normals():\n",
        "  mesh.compute_vertex_normals()\n",
        "if not mesh.has_triangle_normals():\n",
        "  mesh.compute_triangle_normals()\n",
        "\n",
        "triangles = np.asarray(mesh.triangles)\n",
        "vertices = np.asarray(mesh.vertices)\n",
        "colors = None\n",
        "if mesh.has_triangle_normals():\n",
        "  colors = (0.5, 0.5, 0.5) + np.asarray(mesh.triangle_normals) * 0.5\n",
        "  colors = tuple(map(tuple, colors))\n",
        "else:\n",
        "  colors = (1.0, 0.0, 0.0)\n",
        "fig = go.Figure(\n",
        "  data=[\n",
        "    go.Mesh3d(\n",
        "      x=vertices[:,0],\n",
        "      y=vertices[:,1],\n",
        "      z=vertices[:,2],\n",
        "      i=triangles[:,0],\n",
        "      j=triangles[:,1],\n",
        "      k=triangles[:,2],\n",
        "      facecolor=colors,\n",
        "      opacity=0.50)\n",
        "  ],\n",
        "  layout=dict(\n",
        "    scene=dict(\n",
        "      xaxis=dict(visible=False),\n",
        "      yaxis=dict(visible=False),\n",
        "      zaxis=dict(visible=False)\n",
        "    )\n",
        "  )\n",
        ")\n",
        "fig.show()\n"
      ]
    }
  ],
  "metadata": {
    "accelerator": "GPU",
    "colab": {
      "provenance": []
    },
    "gpuClass": "standard",
    "kernelspec": {
      "display_name": "Python 3",
      "name": "python3"
    },
    "language_info": {
      "name": "python"
    }
  },
  "nbformat": 4,
  "nbformat_minor": 0
}